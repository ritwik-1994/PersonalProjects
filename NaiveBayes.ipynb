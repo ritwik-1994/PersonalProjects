{
 "cells": [
  {
   "cell_type": "markdown",
   "metadata": {},
   "source": [
    "# Naive Bayes (the easy way)"
   ]
  },
  {
   "cell_type": "markdown",
   "metadata": {},
   "source": [
    "We'll cheat by using sklearn.naive_bayes to train a spam classifier! Most of the code is just loading our training data into a pandas DataFrame that we can play with:"
   ]
  },
  {
   "cell_type": "code",
   "execution_count": 2,
   "metadata": {},
   "outputs": [],
   "source": [
    "import os\n",
    "import io\n",
    "import numpy\n",
    "from pandas import DataFrame\n",
    "from sklearn.feature_extraction.text import CountVectorizer\n",
    "from sklearn.naive_bayes import MultinomialNB\n",
    "\n",
    "def readFiles(path):\n",
    "    for root, dirnames, filenames in os.walk(path):\n",
    "        for filename in filenames:\n",
    "            path = os.path.join(root, filename)\n",
    "\n",
    "            inBody = False\n",
    "            lines = []\n",
    "            f = io.open(path, 'r', encoding='latin1')\n",
    "            for line in f:\n",
    "                if inBody:\n",
    "                    lines.append(line)\n",
    "                elif line == '\\n':\n",
    "                    inBody = True\n",
    "            f.close()\n",
    "            message = '\\n'.join(lines)\n",
    "            yield path, message\n",
    "\n",
    "\n",
    "def dataFrameFromDirectory(path, classification):\n",
    "    rows = []\n",
    "    index = []\n",
    "    for filename, message in readFiles(path):\n",
    "        rows.append({'message': message, 'class': classification})\n",
    "        index.append(filename)\n",
    "\n",
    "    return DataFrame(rows, index=index)\n",
    "\n",
    "data = DataFrame({'message': [], 'class': []})\n",
    "\n",
    "data = data.append(dataFrameFromDirectory('/users/ritwikchakradhar/Downloads/MLCourse/emails/spam', 'spam'))\n",
    "data = data.append(dataFrameFromDirectory('/users/ritwikchakradhar/Downloads/MLCourse/emails/ham', 'ham'))\n"
   ]
  },
  {
   "cell_type": "markdown",
   "metadata": {},
   "source": [
    "Let's have a look at that DataFrame:"
   ]
  },
  {
   "cell_type": "code",
   "execution_count": 5,
   "metadata": {},
   "outputs": [
    {
     "data": {
      "text/html": [
       "<div>\n",
       "<style scoped>\n",
       "    .dataframe tbody tr th:only-of-type {\n",
       "        vertical-align: middle;\n",
       "    }\n",
       "\n",
       "    .dataframe tbody tr th {\n",
       "        vertical-align: top;\n",
       "    }\n",
       "\n",
       "    .dataframe thead th {\n",
       "        text-align: right;\n",
       "    }\n",
       "</style>\n",
       "<table border=\"1\" class=\"dataframe\">\n",
       "  <thead>\n",
       "    <tr style=\"text-align: right;\">\n",
       "      <th></th>\n",
       "      <th>message</th>\n",
       "      <th>class</th>\n",
       "    </tr>\n",
       "  </thead>\n",
       "  <tbody>\n",
       "    <tr>\n",
       "      <th>/users/ritwikchakradhar/Downloads/MLCourse/emails/ham/01938.da956f847b734888d96d8dd4ee736f40</th>\n",
       "      <td>URL: http://www.joelonsoftware.com/news/200209...</td>\n",
       "      <td>ham</td>\n",
       "    </tr>\n",
       "    <tr>\n",
       "      <th>/users/ritwikchakradhar/Downloads/MLCourse/emails/spam/00292.dbf78a2aaa230d288eb80ab843804252</th>\n",
       "      <td>REGISTER .COM, .BIZ, AND .INFO DOMAINS FOR ONL...</td>\n",
       "      <td>spam</td>\n",
       "    </tr>\n",
       "    <tr>\n",
       "      <th>/users/ritwikchakradhar/Downloads/MLCourse/emails/ham/01403.240c78274ebf62c726f214797242b409</th>\n",
       "      <td>\\n\\n--hdW7zL/qDS6RXdAL\\n\\nContent-Type: text/p...</td>\n",
       "      <td>ham</td>\n",
       "    </tr>\n",
       "    <tr>\n",
       "      <th>/users/ritwikchakradhar/Downloads/MLCourse/emails/ham/01991.27c828be78e15dbf223bb3f3944508d6</th>\n",
       "      <td>URL: http://www.newsisfree.com/click/-4,827608...</td>\n",
       "      <td>ham</td>\n",
       "    </tr>\n",
       "    <tr>\n",
       "      <th>/users/ritwikchakradhar/Downloads/MLCourse/emails/ham/01656.705cfa5ceb056324fe8fef48d12754db</th>\n",
       "      <td>&gt; I guess MUA-level filtering is just a fallba...</td>\n",
       "      <td>ham</td>\n",
       "    </tr>\n",
       "  </tbody>\n",
       "</table>\n",
       "</div>"
      ],
      "text/plain": [
       "                                                                                              message  \\\n",
       "/users/ritwikchakradhar/Downloads/MLCourse/emai...  URL: http://www.joelonsoftware.com/news/200209...   \n",
       "/users/ritwikchakradhar/Downloads/MLCourse/emai...  REGISTER .COM, .BIZ, AND .INFO DOMAINS FOR ONL...   \n",
       "/users/ritwikchakradhar/Downloads/MLCourse/emai...  \\n\\n--hdW7zL/qDS6RXdAL\\n\\nContent-Type: text/p...   \n",
       "/users/ritwikchakradhar/Downloads/MLCourse/emai...  URL: http://www.newsisfree.com/click/-4,827608...   \n",
       "/users/ritwikchakradhar/Downloads/MLCourse/emai...  > I guess MUA-level filtering is just a fallba...   \n",
       "\n",
       "                                                   class  \n",
       "/users/ritwikchakradhar/Downloads/MLCourse/emai...   ham  \n",
       "/users/ritwikchakradhar/Downloads/MLCourse/emai...  spam  \n",
       "/users/ritwikchakradhar/Downloads/MLCourse/emai...   ham  \n",
       "/users/ritwikchakradhar/Downloads/MLCourse/emai...   ham  \n",
       "/users/ritwikchakradhar/Downloads/MLCourse/emai...   ham  "
      ]
     },
     "execution_count": 5,
     "metadata": {},
     "output_type": "execute_result"
    }
   ],
   "source": [
    "data.sample(5)"
   ]
  },
  {
   "cell_type": "markdown",
   "metadata": {},
   "source": [
    "Now we will use a CountVectorizer to split up each message into its list of words, and throw that into a MultinomialNB classifier. Call fit() and we've got a trained spam filter ready to go! It's just that easy."
   ]
  },
  {
   "cell_type": "code",
   "execution_count": 6,
   "metadata": {},
   "outputs": [
    {
     "data": {
      "text/plain": [
       "MultinomialNB()"
      ]
     },
     "execution_count": 6,
     "metadata": {},
     "output_type": "execute_result"
    }
   ],
   "source": [
    "vectorizer = CountVectorizer()\n",
    "counts = vectorizer.fit_transform(data['message'].values)\n",
    "\n",
    "classifier = MultinomialNB()\n",
    "targets = data['class'].values\n",
    "classifier.fit(counts, targets)"
   ]
  },
  {
   "cell_type": "markdown",
   "metadata": {},
   "source": [
    "Let's try it out:"
   ]
  },
  {
   "cell_type": "code",
   "execution_count": 12,
   "metadata": {},
   "outputs": [
    {
     "data": {
      "text/plain": [
       "array(['ham', 'ham'], dtype='<U4')"
      ]
     },
     "execution_count": 12,
     "metadata": {},
     "output_type": "execute_result"
    }
   ],
   "source": [
    "examples = ['Hello is there anybody in there?', \"Get Free Best Deals Now!\"]\n",
    "example_counts = vectorizer.transform(examples)\n",
    "predictions = classifier.predict(example_counts)\n",
    "predictions"
   ]
  },
  {
   "cell_type": "markdown",
   "metadata": {},
   "source": [
    "## Activity"
   ]
  },
  {
   "cell_type": "markdown",
   "metadata": {},
   "source": [
    "Our data set is small, so our spam classifier isn't actually very good. Try running some different test emails through it and see if you get the results you expect.\n",
    "\n",
    "If you really want to challenge yourself, try applying train/test to this spam classifier - see how well it can predict some subset of the ham and spam emails."
   ]
  },
  {
   "cell_type": "code",
   "execution_count": 51,
   "metadata": {},
   "outputs": [],
   "source": [
    "from sklearn.model_selection import train_test_split"
   ]
  },
  {
   "cell_type": "code",
   "execution_count": 52,
   "metadata": {},
   "outputs": [],
   "source": [
    "X_train, X_test, y_train, y_test = train_test_split(data['message'], data['class'], test_size = 0.2)"
   ]
  },
  {
   "cell_type": "code",
   "execution_count": 53,
   "metadata": {},
   "outputs": [
    {
     "name": "stdout",
     "output_type": "stream",
     "text": [
      "/users/ritwikchakradhar/Downloads/MLCourse/emails/ham/00827.b863d1780c6c6ed248a3e9136bd52b72      ham\n",
      "/users/ritwikchakradhar/Downloads/MLCourse/emails/ham/02146.08b5ca9cb17ad30a0295e17560307aeb      ham\n",
      "/users/ritwikchakradhar/Downloads/MLCourse/emails/ham/00425.0ba16e840d94d629f8a3881b4e03a3ad      ham\n",
      "/users/ritwikchakradhar/Downloads/MLCourse/emails/ham/02274.d25fe5d3adc798112cd281bd89d642db      ham\n",
      "/users/ritwikchakradhar/Downloads/MLCourse/emails/ham/00719.6d73cfb0bea6fe5002fbd3b260d480e6      ham\n",
      "                                                                                                 ... \n",
      "/users/ritwikchakradhar/Downloads/MLCourse/emails/ham/00628.4a185fee450d8239cf82bee902dbd1af      ham\n",
      "/users/ritwikchakradhar/Downloads/MLCourse/emails/ham/00911.dcbdde154d9f25c1afe32f4b8f5f1f9b      ham\n",
      "/users/ritwikchakradhar/Downloads/MLCourse/emails/ham/00378.46432f84e1aab28c26cf1bc5aa2d36bc      ham\n",
      "/users/ritwikchakradhar/Downloads/MLCourse/emails/spam/00156.0b541afe96820e3bb8f900b565608269    spam\n",
      "/users/ritwikchakradhar/Downloads/MLCourse/emails/ham/00248.668706b3eca383f610723863786d422d      ham\n",
      "Name: class, Length: 2400, dtype: object\n"
     ]
    }
   ],
   "source": [
    "print(y_train)"
   ]
  },
  {
   "cell_type": "code",
   "execution_count": 61,
   "metadata": {},
   "outputs": [
    {
     "data": {
      "text/plain": [
       "MultinomialNB()"
      ]
     },
     "execution_count": 61,
     "metadata": {},
     "output_type": "execute_result"
    }
   ],
   "source": [
    "vectorizer = CountVectorizer()\n",
    "counts = vectorizer.fit_transform(X_train.values)\n",
    "\n",
    "classifier = MultinomialNB()\n",
    "targets = y_train.values\n",
    "classifier.fit(counts, targets)"
   ]
  },
  {
   "cell_type": "code",
   "execution_count": 55,
   "metadata": {},
   "outputs": [],
   "source": [
    "\n",
    "counts_test = vectorizer.transform(X_test)\n",
    "\n",
    "prediction = classifier.predict(counts_test)"
   ]
  },
  {
   "cell_type": "code",
   "execution_count": 56,
   "metadata": {},
   "outputs": [],
   "source": [
    "from sklearn.metrics import r2_score"
   ]
  },
  {
   "cell_type": "code",
   "execution_count": 57,
   "metadata": {},
   "outputs": [
    {
     "ename": "ValueError",
     "evalue": "too many values to unpack (expected 2)",
     "output_type": "error",
     "traceback": [
      "\u001b[0;31m---------------------------------------------------------------------------\u001b[0m",
      "\u001b[0;31mValueError\u001b[0m                                Traceback (most recent call last)",
      "\u001b[0;32m<ipython-input-57-99542c7a031b>\u001b[0m in \u001b[0;36m<module>\u001b[0;34m\u001b[0m\n\u001b[1;32m      1\u001b[0m \u001b[0mper_predict\u001b[0m \u001b[0;34m=\u001b[0m \u001b[0;36m0\u001b[0m\u001b[0;34m\u001b[0m\u001b[0;34m\u001b[0m\u001b[0m\n\u001b[1;32m      2\u001b[0m \u001b[0;34m\u001b[0m\u001b[0m\n\u001b[0;32m----> 3\u001b[0;31m \u001b[0;32mfor\u001b[0m \u001b[0mx\u001b[0m\u001b[0;34m,\u001b[0m \u001b[0my\u001b[0m \u001b[0;32min\u001b[0m \u001b[0mprediction\u001b[0m\u001b[0;34m:\u001b[0m\u001b[0;34m\u001b[0m\u001b[0;34m\u001b[0m\u001b[0m\n\u001b[0m\u001b[1;32m      4\u001b[0m     \u001b[0;32mif\u001b[0m\u001b[0;34m(\u001b[0m\u001b[0mx\u001b[0m\u001b[0;34m==\u001b[0m\u001b[0my\u001b[0m\u001b[0;34m)\u001b[0m\u001b[0;34m:\u001b[0m\u001b[0;34m\u001b[0m\u001b[0;34m\u001b[0m\u001b[0m\n\u001b[1;32m      5\u001b[0m         \u001b[0mper_predict\u001b[0m \u001b[0;34m+=\u001b[0m\u001b[0;36m1\u001b[0m\u001b[0;34m\u001b[0m\u001b[0;34m\u001b[0m\u001b[0m\n",
      "\u001b[0;31mValueError\u001b[0m: too many values to unpack (expected 2)"
     ]
    }
   ],
   "source": [
    "per_predict = 0\n",
    "\n",
    "for x, y in prediction:\n",
    "    if(x==y):\n",
    "        per_predict +=1\n",
    "        \n",
    "print(per_predict/y_test.count())"
   ]
  },
  {
   "cell_type": "code",
   "execution_count": 58,
   "metadata": {},
   "outputs": [
    {
     "name": "stdout",
     "output_type": "stream",
     "text": [
      "[ 28 572]\n"
     ]
    }
   ],
   "source": [
    "import numpy as np\n",
    "print(np.bincount(prediction == y_test))"
   ]
  },
  {
   "cell_type": "code",
   "execution_count": 59,
   "metadata": {},
   "outputs": [
    {
     "name": "stdout",
     "output_type": "stream",
     "text": [
      "[[  0  28]\n",
      " [  1 572]]\n"
     ]
    }
   ],
   "source": [
    "unique, counts = np.unique(prediction == y_test, return_counts=True)\n",
    "\n",
    "print(np.asarray((unique, counts)).T)"
   ]
  },
  {
   "cell_type": "code",
   "execution_count": 62,
   "metadata": {},
   "outputs": [
    {
     "name": "stdout",
     "output_type": "stream",
     "text": [
      "  (0, 33877)\t3\n",
      "  (0, 18578)\t1\n",
      "  (0, 48951)\t1\n",
      "  (0, 22897)\t1\n",
      "  (0, 46670)\t1\n",
      "  (0, 28672)\t9\n",
      "  (0, 31894)\t1\n",
      "  (0, 49335)\t7\n",
      "  (0, 46623)\t2\n",
      "  (0, 18023)\t1\n",
      "  (0, 10381)\t2\n",
      "  (0, 9560)\t8\n",
      "  (0, 11520)\t4\n",
      "  (0, 27755)\t4\n",
      "  (0, 48860)\t8\n",
      "  (0, 39305)\t1\n",
      "  (0, 40279)\t1\n",
      "  (0, 36954)\t4\n",
      "  (0, 9764)\t1\n",
      "  (0, 38366)\t1\n",
      "  (0, 27911)\t2\n",
      "  (0, 55840)\t1\n",
      "  (0, 14474)\t1\n",
      "  (0, 20793)\t1\n",
      "  (0, 53667)\t1\n",
      "  :\t:\n",
      "  (2399, 28632)\t1\n",
      "  (2399, 32040)\t4\n",
      "  (2399, 24608)\t1\n",
      "  (2399, 27587)\t2\n",
      "  (2399, 27158)\t3\n",
      "  (2399, 33074)\t1\n",
      "  (2399, 32092)\t1\n",
      "  (2399, 50768)\t1\n",
      "  (2399, 47455)\t1\n",
      "  (2399, 33106)\t1\n",
      "  (2399, 32096)\t1\n",
      "  (2399, 50648)\t1\n",
      "  (2399, 15041)\t1\n",
      "  (2399, 44734)\t1\n",
      "  (2399, 25718)\t1\n",
      "  (2399, 34574)\t1\n",
      "  (2399, 14269)\t1\n",
      "  (2399, 28689)\t1\n",
      "  (2399, 19198)\t1\n",
      "  (2399, 16581)\t1\n",
      "  (2399, 42782)\t1\n",
      "  (2399, 48913)\t1\n",
      "  (2399, 2341)\t1\n",
      "  (2399, 53747)\t1\n",
      "  (2399, 26108)\t1\n"
     ]
    }
   ],
   "source": [
    "print(counts)"
   ]
  },
  {
   "cell_type": "code",
   "execution_count": null,
   "metadata": {},
   "outputs": [],
   "source": []
  }
 ],
 "metadata": {
  "kernelspec": {
   "display_name": "Python 3",
   "language": "python",
   "name": "python3"
  },
  "language_info": {
   "codemirror_mode": {
    "name": "ipython",
    "version": 3
   },
   "file_extension": ".py",
   "mimetype": "text/x-python",
   "name": "python",
   "nbconvert_exporter": "python",
   "pygments_lexer": "ipython3",
   "version": "3.8.8"
  }
 },
 "nbformat": 4,
 "nbformat_minor": 1
}
